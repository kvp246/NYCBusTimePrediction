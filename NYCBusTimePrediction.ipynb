{
 "cells": [
  {
   "cell_type": "markdown",
   "metadata": {},
   "source": [
    "### Variable Names\n",
    "1.latitude\n",
    "2.longitude\n",
    "3.time_received\n",
    "4.vehicle_id\n",
    "5.distance_along_trip\n",
    "6.inferred_direction_id\n",
    "7.inferred_phase\n",
    "8.inferred_route_id\n",
    "9.inferred_trip_id\n",
    "10.next_scheduled_stop_distance\n",
    "11.next_scheduled_stop_id"
   ]
  },
  {
   "cell_type": "code",
   "execution_count": 1,
   "metadata": {
    "collapsed": true
   },
   "outputs": [],
   "source": [
    "# Loading required libraries\n",
    "%matplotlib inline\n",
    "import csv\n",
    "import pandas as pd\n",
    "import glob\n",
    "import matplotlib as matplotlib\n",
    "import matplotlib.pylab as plt"
   ]
  },
  {
   "cell_type": "code",
   "execution_count": 2,
   "metadata": {
    "collapsed": false,
    "scrolled": false
   },
   "outputs": [
    {
     "name": "stdout",
     "output_type": "stream",
     "text": [
      ".\\MTA-Bus-Time_.2014-08-01.txt\n",
      "21939\n",
      ".\\MTA-Bus-Time_.2014-08-02.txt\n",
      "38972\n",
      ".\\MTA-Bus-Time_.2014-08-03.txt\n",
      "52689\n",
      ".\\MTA-Bus-Time_.2014-08-04.txt\n",
      "70767\n",
      ".\\MTA-Bus-Time_.2014-08-05.txt\n",
      "92486\n",
      ".\\MTA-Bus-Time_.2014-08-06.txt\n",
      "114689\n",
      ".\\MTA-Bus-Time_.2014-08-07.txt\n",
      "134821\n"
     ]
    }
   ],
   "source": [
    "# Getting filenames from the current working directory\n",
    "filenames = glob.glob('./*.txt')\n",
    "\n",
    "# Getting all the rows for a given busline\n",
    "lines = []\n",
    "\n",
    "def mtabusdata(filename, busline):\n",
    "    with open(filename, 'r') as fi:\n",
    "        reader = csv.DictReader(fi, delimiter='\\t', quoting=csv.QUOTE_NONE)\n",
    "        for row in reader:\n",
    "            if row['inferred_route_id'].rsplit(\"_\",1)[-1] == busline:\n",
    "                yield row\n",
    "\n",
    "for i in filenames:\n",
    "    print i\n",
    "    g = mtabusdata(i, 'M10')\n",
    "    for i in g:\n",
    "        lines.append(i)\n",
    "    print len(lines)"
   ]
  },
  {
   "cell_type": "code",
   "execution_count": 3,
   "metadata": {
    "collapsed": false
   },
   "outputs": [
    {
     "name": "stdout",
     "output_type": "stream",
     "text": [
      "(134821, 11)\n"
     ]
    },
    {
     "data": {
      "text/html": [
       "<div>\n",
       "<table border=\"1\" class=\"dataframe\">\n",
       "  <thead>\n",
       "    <tr style=\"text-align: right;\">\n",
       "      <th></th>\n",
       "      <th>distance_along_trip</th>\n",
       "      <th>inferred_direction_id</th>\n",
       "      <th>inferred_phase</th>\n",
       "      <th>inferred_route_id</th>\n",
       "      <th>inferred_trip_id</th>\n",
       "      <th>latitude</th>\n",
       "      <th>longitude</th>\n",
       "      <th>next_scheduled_stop_distance</th>\n",
       "      <th>next_scheduled_stop_id</th>\n",
       "      <th>time_received</th>\n",
       "      <th>vehicle_id</th>\n",
       "    </tr>\n",
       "  </thead>\n",
       "  <tbody>\n",
       "    <tr>\n",
       "      <th>0</th>\n",
       "      <td>1535.395692597318</td>\n",
       "      <td>1</td>\n",
       "      <td>IN_PROGRESS</td>\n",
       "      <td>MTA NYCT_M10</td>\n",
       "      <td>MTA NYCT_MV_C4-Weekday-143500_M7_746</td>\n",
       "      <td>40.818868</td>\n",
       "      <td>-73.944795</td>\n",
       "      <td>92.56509633903624</td>\n",
       "      <td>MTA_401313</td>\n",
       "      <td>2014-08-01 04:00:06</td>\n",
       "      <td>6669</td>\n",
       "    </tr>\n",
       "    <tr>\n",
       "      <th>1</th>\n",
       "      <td>8497.30349682903</td>\n",
       "      <td>1</td>\n",
       "      <td>LAYOVER_DURING</td>\n",
       "      <td>MTA NYCT_M10</td>\n",
       "      <td>MTA NYCT_MV_C4-Weekday-139000_M7_745</td>\n",
       "      <td>40.766684</td>\n",
       "      <td>-73.981577</td>\n",
       "      <td>24.02000047720503</td>\n",
       "      <td>MTA_405376</td>\n",
       "      <td>2014-08-01 04:00:11</td>\n",
       "      <td>6399</td>\n",
       "    </tr>\n",
       "    <tr>\n",
       "      <th>2</th>\n",
       "      <td>5576.374408785021</td>\n",
       "      <td>0</td>\n",
       "      <td>IN_PROGRESS</td>\n",
       "      <td>MTA NYCT_M10</td>\n",
       "      <td>MTA NYCT_MV_C4-Weekday-140000_M7_737</td>\n",
       "      <td>40.809930</td>\n",
       "      <td>-73.951370</td>\n",
       "      <td>142.44838393622194</td>\n",
       "      <td>MTA_405182</td>\n",
       "      <td>2014-08-01 04:00:18</td>\n",
       "      <td>6423</td>\n",
       "    </tr>\n",
       "    <tr>\n",
       "      <th>3</th>\n",
       "      <td>5184.004313963465</td>\n",
       "      <td>1</td>\n",
       "      <td>IN_PROGRESS</td>\n",
       "      <td>MTA NYCT_M10</td>\n",
       "      <td>MTA NYCT_MV_C4-Weekday-141000_M7_740</td>\n",
       "      <td>40.790370</td>\n",
       "      <td>-73.965542</td>\n",
       "      <td>245.72562926534738</td>\n",
       "      <td>MTA_401333</td>\n",
       "      <td>2014-08-01 04:00:21</td>\n",
       "      <td>6365</td>\n",
       "    </tr>\n",
       "    <tr>\n",
       "      <th>4</th>\n",
       "      <td>2806.4172479574336</td>\n",
       "      <td>0</td>\n",
       "      <td>IN_PROGRESS</td>\n",
       "      <td>MTA NYCT_M10</td>\n",
       "      <td>MTA NYCT_MV_C4-Weekday-142000_M7_743</td>\n",
       "      <td>40.788460</td>\n",
       "      <td>-73.967104</td>\n",
       "      <td>118.64539903457626</td>\n",
       "      <td>MTA_401257</td>\n",
       "      <td>2014-08-01 04:00:32</td>\n",
       "      <td>3834</td>\n",
       "    </tr>\n",
       "  </tbody>\n",
       "</table>\n",
       "</div>"
      ],
      "text/plain": [
       "  distance_along_trip inferred_direction_id  inferred_phase inferred_route_id  \\\n",
       "0   1535.395692597318                     1     IN_PROGRESS      MTA NYCT_M10   \n",
       "1    8497.30349682903                     1  LAYOVER_DURING      MTA NYCT_M10   \n",
       "2   5576.374408785021                     0     IN_PROGRESS      MTA NYCT_M10   \n",
       "3   5184.004313963465                     1     IN_PROGRESS      MTA NYCT_M10   \n",
       "4  2806.4172479574336                     0     IN_PROGRESS      MTA NYCT_M10   \n",
       "\n",
       "                       inferred_trip_id   latitude   longitude  \\\n",
       "0  MTA NYCT_MV_C4-Weekday-143500_M7_746  40.818868  -73.944795   \n",
       "1  MTA NYCT_MV_C4-Weekday-139000_M7_745  40.766684  -73.981577   \n",
       "2  MTA NYCT_MV_C4-Weekday-140000_M7_737  40.809930  -73.951370   \n",
       "3  MTA NYCT_MV_C4-Weekday-141000_M7_740  40.790370  -73.965542   \n",
       "4  MTA NYCT_MV_C4-Weekday-142000_M7_743  40.788460  -73.967104   \n",
       "\n",
       "  next_scheduled_stop_distance next_scheduled_stop_id        time_received  \\\n",
       "0            92.56509633903624             MTA_401313  2014-08-01 04:00:06   \n",
       "1            24.02000047720503             MTA_405376  2014-08-01 04:00:11   \n",
       "2           142.44838393622194             MTA_405182  2014-08-01 04:00:18   \n",
       "3           245.72562926534738             MTA_401333  2014-08-01 04:00:21   \n",
       "4           118.64539903457626             MTA_401257  2014-08-01 04:00:32   \n",
       "\n",
       "  vehicle_id  \n",
       "0       6669  \n",
       "1       6399  \n",
       "2       6423  \n",
       "3       6365  \n",
       "4       3834  "
      ]
     },
     "execution_count": 3,
     "metadata": {},
     "output_type": "execute_result"
    }
   ],
   "source": [
    "# Converting the list of dictionaries into a pandas dataframe\n",
    "data_M10 = pd.DataFrame(lines)\n",
    "print data_M10.shape\n",
    "data_M10.head()"
   ]
  },
  {
   "cell_type": "code",
   "execution_count": 4,
   "metadata": {
    "collapsed": false,
    "scrolled": true
   },
   "outputs": [
    {
     "name": "stdout",
     "output_type": "stream",
     "text": [
      "<class 'pandas.core.frame.DataFrame'>\n",
      "Int64Index: 134821 entries, 0 to 134820\n",
      "Data columns (total 11 columns):\n",
      "distance_along_trip             134821 non-null object\n",
      "inferred_direction_id           134821 non-null object\n",
      "inferred_phase                  134821 non-null object\n",
      "inferred_route_id               134821 non-null object\n",
      "inferred_trip_id                134821 non-null object\n",
      "latitude                        134821 non-null object\n",
      "longitude                       134821 non-null object\n",
      "next_scheduled_stop_distance    134821 non-null object\n",
      "next_scheduled_stop_id          134821 non-null object\n",
      "time_received                   134821 non-null object\n",
      "vehicle_id                      134821 non-null object\n",
      "dtypes: object(11)\n",
      "memory usage: 12.3+ MB\n"
     ]
    }
   ],
   "source": [
    "data_M10.info()"
   ]
  },
  {
   "cell_type": "code",
   "execution_count": 29,
   "metadata": {
    "collapsed": false
   },
   "outputs": [],
   "source": [
    "# Converting data types of few features\n",
    "data_M10['distance_along_trip'] = data_M10['distance_along_trip'].astype(float)\n",
    "data_M10['next_scheduled_stop_distance'] = data_M10['next_scheduled_stop_distance'].astype(float)\n",
    "data_M10['time_received'] = pd.to_datetime(data_M10['time_received'])\n",
    "\n",
    "# Splitting datetime into date and time features\n",
    "tempDatetime = pd.DatetimeIndex(data_M10['time_received'])\n",
    "data_M10['date'] = pd.to_datetime(tempDatetime.date)\n",
    "data_M10['time'] = pd.to_datetime(tempDatetime.time)\n",
    "\n",
    "# Splitting datetime into date and time\n",
    "#data_M10['date'] = data_M10['time_received'].apply(lambda x:x.date())\n",
    "#data_M10['time'] = data_M10['time_received'].apply(lambda x:x.time())"
   ]
  },
  {
   "cell_type": "code",
   "execution_count": 30,
   "metadata": {
    "collapsed": false
   },
   "outputs": [
    {
     "name": "stdout",
     "output_type": "stream",
     "text": [
      "<class 'pandas.core.frame.DataFrame'>\n",
      "Int64Index: 134821 entries, 0 to 134820\n",
      "Data columns (total 13 columns):\n",
      "distance_along_trip             134821 non-null float64\n",
      "inferred_direction_id           134821 non-null object\n",
      "inferred_phase                  134821 non-null object\n",
      "inferred_route_id               134821 non-null object\n",
      "inferred_trip_id                134821 non-null object\n",
      "latitude                        134821 non-null object\n",
      "longitude                       134821 non-null object\n",
      "next_scheduled_stop_distance    134821 non-null float64\n",
      "next_scheduled_stop_id          134821 non-null object\n",
      "time_received                   134821 non-null datetime64[ns]\n",
      "vehicle_id                      134821 non-null object\n",
      "date                            134821 non-null datetime64[ns]\n",
      "time                            134821 non-null object\n",
      "dtypes: datetime64[ns](2), float64(2), object(9)\n",
      "memory usage: 14.4+ MB\n"
     ]
    }
   ],
   "source": [
    "data_M10.info()"
   ]
  },
  {
   "cell_type": "code",
   "execution_count": 31,
   "metadata": {
    "collapsed": false
   },
   "outputs": [
    {
     "data": {
      "text/html": [
       "<div>\n",
       "<table border=\"1\" class=\"dataframe\">\n",
       "  <thead>\n",
       "    <tr style=\"text-align: right;\">\n",
       "      <th></th>\n",
       "      <th>distance_along_trip</th>\n",
       "      <th>inferred_direction_id</th>\n",
       "      <th>inferred_phase</th>\n",
       "      <th>inferred_route_id</th>\n",
       "      <th>inferred_trip_id</th>\n",
       "      <th>latitude</th>\n",
       "      <th>longitude</th>\n",
       "      <th>next_scheduled_stop_distance</th>\n",
       "      <th>next_scheduled_stop_id</th>\n",
       "      <th>time_received</th>\n",
       "      <th>vehicle_id</th>\n",
       "      <th>date</th>\n",
       "      <th>time</th>\n",
       "    </tr>\n",
       "  </thead>\n",
       "  <tbody>\n",
       "    <tr>\n",
       "      <th>0</th>\n",
       "      <td>1535.395693</td>\n",
       "      <td>1</td>\n",
       "      <td>IN_PROGRESS</td>\n",
       "      <td>MTA NYCT_M10</td>\n",
       "      <td>MTA NYCT_MV_C4-Weekday-143500_M7_746</td>\n",
       "      <td>40.818868</td>\n",
       "      <td>-73.944795</td>\n",
       "      <td>92.565096</td>\n",
       "      <td>MTA_401313</td>\n",
       "      <td>2014-08-01 04:00:06</td>\n",
       "      <td>6669</td>\n",
       "      <td>2014-08-01</td>\n",
       "      <td>04:00:06</td>\n",
       "    </tr>\n",
       "    <tr>\n",
       "      <th>1</th>\n",
       "      <td>8497.303497</td>\n",
       "      <td>1</td>\n",
       "      <td>LAYOVER_DURING</td>\n",
       "      <td>MTA NYCT_M10</td>\n",
       "      <td>MTA NYCT_MV_C4-Weekday-139000_M7_745</td>\n",
       "      <td>40.766684</td>\n",
       "      <td>-73.981577</td>\n",
       "      <td>24.020000</td>\n",
       "      <td>MTA_405376</td>\n",
       "      <td>2014-08-01 04:00:11</td>\n",
       "      <td>6399</td>\n",
       "      <td>2014-08-01</td>\n",
       "      <td>04:00:11</td>\n",
       "    </tr>\n",
       "    <tr>\n",
       "      <th>2</th>\n",
       "      <td>5576.374409</td>\n",
       "      <td>0</td>\n",
       "      <td>IN_PROGRESS</td>\n",
       "      <td>MTA NYCT_M10</td>\n",
       "      <td>MTA NYCT_MV_C4-Weekday-140000_M7_737</td>\n",
       "      <td>40.809930</td>\n",
       "      <td>-73.951370</td>\n",
       "      <td>142.448384</td>\n",
       "      <td>MTA_405182</td>\n",
       "      <td>2014-08-01 04:00:18</td>\n",
       "      <td>6423</td>\n",
       "      <td>2014-08-01</td>\n",
       "      <td>04:00:18</td>\n",
       "    </tr>\n",
       "    <tr>\n",
       "      <th>3</th>\n",
       "      <td>5184.004314</td>\n",
       "      <td>1</td>\n",
       "      <td>IN_PROGRESS</td>\n",
       "      <td>MTA NYCT_M10</td>\n",
       "      <td>MTA NYCT_MV_C4-Weekday-141000_M7_740</td>\n",
       "      <td>40.790370</td>\n",
       "      <td>-73.965542</td>\n",
       "      <td>245.725629</td>\n",
       "      <td>MTA_401333</td>\n",
       "      <td>2014-08-01 04:00:21</td>\n",
       "      <td>6365</td>\n",
       "      <td>2014-08-01</td>\n",
       "      <td>04:00:21</td>\n",
       "    </tr>\n",
       "    <tr>\n",
       "      <th>4</th>\n",
       "      <td>2806.417248</td>\n",
       "      <td>0</td>\n",
       "      <td>IN_PROGRESS</td>\n",
       "      <td>MTA NYCT_M10</td>\n",
       "      <td>MTA NYCT_MV_C4-Weekday-142000_M7_743</td>\n",
       "      <td>40.788460</td>\n",
       "      <td>-73.967104</td>\n",
       "      <td>118.645399</td>\n",
       "      <td>MTA_401257</td>\n",
       "      <td>2014-08-01 04:00:32</td>\n",
       "      <td>3834</td>\n",
       "      <td>2014-08-01</td>\n",
       "      <td>04:00:32</td>\n",
       "    </tr>\n",
       "  </tbody>\n",
       "</table>\n",
       "</div>"
      ],
      "text/plain": [
       "   distance_along_trip inferred_direction_id  inferred_phase  \\\n",
       "0          1535.395693                     1     IN_PROGRESS   \n",
       "1          8497.303497                     1  LAYOVER_DURING   \n",
       "2          5576.374409                     0     IN_PROGRESS   \n",
       "3          5184.004314                     1     IN_PROGRESS   \n",
       "4          2806.417248                     0     IN_PROGRESS   \n",
       "\n",
       "  inferred_route_id                      inferred_trip_id   latitude  \\\n",
       "0      MTA NYCT_M10  MTA NYCT_MV_C4-Weekday-143500_M7_746  40.818868   \n",
       "1      MTA NYCT_M10  MTA NYCT_MV_C4-Weekday-139000_M7_745  40.766684   \n",
       "2      MTA NYCT_M10  MTA NYCT_MV_C4-Weekday-140000_M7_737  40.809930   \n",
       "3      MTA NYCT_M10  MTA NYCT_MV_C4-Weekday-141000_M7_740  40.790370   \n",
       "4      MTA NYCT_M10  MTA NYCT_MV_C4-Weekday-142000_M7_743  40.788460   \n",
       "\n",
       "    longitude  next_scheduled_stop_distance next_scheduled_stop_id  \\\n",
       "0  -73.944795                     92.565096             MTA_401313   \n",
       "1  -73.981577                     24.020000             MTA_405376   \n",
       "2  -73.951370                    142.448384             MTA_405182   \n",
       "3  -73.965542                    245.725629             MTA_401333   \n",
       "4  -73.967104                    118.645399             MTA_401257   \n",
       "\n",
       "        time_received vehicle_id       date      time  \n",
       "0 2014-08-01 04:00:06       6669 2014-08-01  04:00:06  \n",
       "1 2014-08-01 04:00:11       6399 2014-08-01  04:00:11  \n",
       "2 2014-08-01 04:00:18       6423 2014-08-01  04:00:18  \n",
       "3 2014-08-01 04:00:21       6365 2014-08-01  04:00:21  \n",
       "4 2014-08-01 04:00:32       3834 2014-08-01  04:00:32  "
      ]
     },
     "execution_count": 31,
     "metadata": {},
     "output_type": "execute_result"
    }
   ],
   "source": [
    "data_M10.head()"
   ]
  },
  {
   "cell_type": "markdown",
   "metadata": {},
   "source": [
    "### Performing data and time analysis"
   ]
  },
  {
   "cell_type": "code",
   "execution_count": 28,
   "metadata": {
    "collapsed": false
   },
   "outputs": [
    {
     "data": {
      "text/plain": [
       "date        inferred_phase\n",
       "2014-08-01  IN_PROGRESS       16859\n",
       "            LAYOVER_BEFORE        7\n",
       "            LAYOVER_DURING     2184\n",
       "2014-08-02  IN_PROGRESS       15350\n",
       "            LAYOVER_DURING     2090\n",
       "2014-08-03  IN_PROGRESS       12620\n",
       "            LAYOVER_DURING     1356\n",
       "2014-08-04  IN_PROGRESS       15081\n",
       "            LAYOVER_BEFORE        2\n",
       "            LAYOVER_DURING     2326\n",
       "2014-08-05  IN_PROGRESS       19007\n",
       "            LAYOVER_BEFORE        3\n",
       "            LAYOVER_DURING     2653\n",
       "2014-08-06  IN_PROGRESS       19554\n",
       "            LAYOVER_BEFORE        3\n",
       "            LAYOVER_DURING     2707\n",
       "2014-08-07  IN_PROGRESS       18134\n",
       "            LAYOVER_BEFORE        4\n",
       "            LAYOVER_DURING     2419\n",
       "2014-08-08  IN_PROGRESS        2141\n",
       "            LAYOVER_DURING      321\n",
       "dtype: int64"
      ]
     },
     "execution_count": 28,
     "metadata": {},
     "output_type": "execute_result"
    }
   ],
   "source": [
    "# Looking at inferred_phase\n",
    "data_M10.groupby(['date','inferred_phase']).size()"
   ]
  },
  {
   "cell_type": "code",
   "execution_count": 33,
   "metadata": {
    "collapsed": false
   },
   "outputs": [
    {
     "name": "stdout",
     "output_type": "stream",
     "text": [
      "(16075, 13)\n"
     ]
    }
   ],
   "source": [
    "# Checking for general distribution of total distance travelled and distance to next stop\n",
    "layovers = data_M10.loc[data_M10['inferred_phase'].isin(['LAYOVER_BEFORE', 'LAYOVER_DURING']), :]\n",
    "print layovers.shape"
   ]
  },
  {
   "cell_type": "code",
   "execution_count": null,
   "metadata": {
    "collapsed": true
   },
   "outputs": [],
   "source": []
  }
 ],
 "metadata": {
  "kernelspec": {
   "display_name": "Python 2",
   "language": "python",
   "name": "python2"
  },
  "language_info": {
   "codemirror_mode": {
    "name": "ipython",
    "version": 2
   },
   "file_extension": ".py",
   "mimetype": "text/x-python",
   "name": "python",
   "nbconvert_exporter": "python",
   "pygments_lexer": "ipython2",
   "version": "2.7.10"
  }
 },
 "nbformat": 4,
 "nbformat_minor": 0
}
